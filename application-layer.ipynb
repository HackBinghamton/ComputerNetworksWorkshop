{
 "cells": [
  {
   "cell_type": "markdown",
   "metadata": {},
   "source": [
    "# Application-Layer Protocols\n",
    "## Overview\n",
    "### What You'll Learn\n",
    "In this section, you'll learn\n",
    "1. What application-layer protocols define\n",
    "1. How HTTP, an application-layer protocol, works\n",
    "\n",
    "### Prerequisites\n",
    "Before starting this section, you should have an understanding of\n",
    "1. [Socket Programming](https://github.com/HackBinghamton/PythonWorkshop)\n",
    "\n",
    "### Introduction\n",
    "Application-layer protocols make up the meat of what you'll need to know when working with sockets. When you're figuring out how you want to format messages in your program, or how you want to encrypt data over the wire, you're designing an application-layer protocol.\n",
    "\n",
    "## What are Application-Layer Protocols?\n",
    "\n",
    "Let's consider an application like Snapchat. When you send someone a message on Snapchat, there are lots of things that have to happen:\n",
    "\n",
    "1. Notifying the other user that recent messages have been read\n",
    "1. Notifying the other user that you're typing or have the chat window open\n",
    "1. Sending the chat message itself\n",
    "\n",
    "As a developer, you need to come up with a protocol that lets you send each of these pieces of information without any ambiguity. This kind of protocol development is all in the application layer.\n",
    "\n",
    "When writing an application-layer protocol, you need to decide:\n",
    "\n",
    "* What kinds of information do I need to send?\n",
    "* In what format should I send it?\n",
    "* Should there be a pattern of sending and receiving between clients and servers?\n",
    "\n",
    "...and many other questions.\n",
    "\n",
    "## Hyper-Text Transfer Protocol (HTTP)\n",
    "\n",
    "HTTP is the protocol responsible for sending ....\n",
    "\n",
    "\\[END OF TRANSMISSION FOR NOW\\]"
   ]
  }
 ],
 "metadata": {
  "kernelspec": {
   "display_name": "Python 3",
   "language": "python",
   "name": "python3"
  },
  "language_info": {
   "codemirror_mode": {
    "name": "ipython",
    "version": 3
   },
   "file_extension": ".py",
   "mimetype": "text/x-python",
   "name": "python",
   "nbconvert_exporter": "python",
   "pygments_lexer": "ipython3",
   "version": "3.8.5"
  }
 },
 "nbformat": 4,
 "nbformat_minor": 4
}
